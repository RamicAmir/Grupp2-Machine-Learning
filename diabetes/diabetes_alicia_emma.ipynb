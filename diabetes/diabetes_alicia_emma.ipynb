{
 "cells": [
  {
   "cell_type": "code",
   "execution_count": 217,
   "metadata": {
    "pycharm": {
     "name": "#%%\n"
    }
   },
   "outputs": [
    {
     "data": {
      "text/plain": "    ID  No_Pation Gender  AGE  Urea  Cr  HbA1c  Chol   TG  HDL  LDL  VLDL  \\\n0  502      17975      F   50   4.7  46    4.9   4.2  0.9  2.4  1.4   0.5   \n1  735      34221      M   26   4.5  62    4.9   3.7  1.4  1.1  2.1   0.6   \n2  420      47975      F   50   4.7  46    4.9   4.2  0.9  2.4  1.4   0.5   \n3  680      87656      F   50   4.7  46    4.9   4.2  0.9  2.4  1.4   0.5   \n4  504      34223      M   33   7.1  46    4.9   4.9  1.0  0.8  2.0   0.4   \n\n    BMI CLASS  \n0  24.0     N  \n1  23.0     N  \n2  24.0     N  \n3  24.0     N  \n4  21.0     N  ",
      "text/html": "<div>\n<style scoped>\n    .dataframe tbody tr th:only-of-type {\n        vertical-align: middle;\n    }\n\n    .dataframe tbody tr th {\n        vertical-align: top;\n    }\n\n    .dataframe thead th {\n        text-align: right;\n    }\n</style>\n<table border=\"1\" class=\"dataframe\">\n  <thead>\n    <tr style=\"text-align: right;\">\n      <th></th>\n      <th>ID</th>\n      <th>No_Pation</th>\n      <th>Gender</th>\n      <th>AGE</th>\n      <th>Urea</th>\n      <th>Cr</th>\n      <th>HbA1c</th>\n      <th>Chol</th>\n      <th>TG</th>\n      <th>HDL</th>\n      <th>LDL</th>\n      <th>VLDL</th>\n      <th>BMI</th>\n      <th>CLASS</th>\n    </tr>\n  </thead>\n  <tbody>\n    <tr>\n      <th>0</th>\n      <td>502</td>\n      <td>17975</td>\n      <td>F</td>\n      <td>50</td>\n      <td>4.7</td>\n      <td>46</td>\n      <td>4.9</td>\n      <td>4.2</td>\n      <td>0.9</td>\n      <td>2.4</td>\n      <td>1.4</td>\n      <td>0.5</td>\n      <td>24.0</td>\n      <td>N</td>\n    </tr>\n    <tr>\n      <th>1</th>\n      <td>735</td>\n      <td>34221</td>\n      <td>M</td>\n      <td>26</td>\n      <td>4.5</td>\n      <td>62</td>\n      <td>4.9</td>\n      <td>3.7</td>\n      <td>1.4</td>\n      <td>1.1</td>\n      <td>2.1</td>\n      <td>0.6</td>\n      <td>23.0</td>\n      <td>N</td>\n    </tr>\n    <tr>\n      <th>2</th>\n      <td>420</td>\n      <td>47975</td>\n      <td>F</td>\n      <td>50</td>\n      <td>4.7</td>\n      <td>46</td>\n      <td>4.9</td>\n      <td>4.2</td>\n      <td>0.9</td>\n      <td>2.4</td>\n      <td>1.4</td>\n      <td>0.5</td>\n      <td>24.0</td>\n      <td>N</td>\n    </tr>\n    <tr>\n      <th>3</th>\n      <td>680</td>\n      <td>87656</td>\n      <td>F</td>\n      <td>50</td>\n      <td>4.7</td>\n      <td>46</td>\n      <td>4.9</td>\n      <td>4.2</td>\n      <td>0.9</td>\n      <td>2.4</td>\n      <td>1.4</td>\n      <td>0.5</td>\n      <td>24.0</td>\n      <td>N</td>\n    </tr>\n    <tr>\n      <th>4</th>\n      <td>504</td>\n      <td>34223</td>\n      <td>M</td>\n      <td>33</td>\n      <td>7.1</td>\n      <td>46</td>\n      <td>4.9</td>\n      <td>4.9</td>\n      <td>1.0</td>\n      <td>0.8</td>\n      <td>2.0</td>\n      <td>0.4</td>\n      <td>21.0</td>\n      <td>N</td>\n    </tr>\n  </tbody>\n</table>\n</div>"
     },
     "execution_count": 217,
     "metadata": {},
     "output_type": "execute_result"
    }
   ],
   "source": [
    "#import data\n",
    "import pandas as pd\n",
    "# import pandas_profiling as pp\n",
    "\n",
    "data = pd.read_csv(r'dataset_of_diabetes.csv')\n",
    "data.head(5)"
   ]
  },
  {
   "cell_type": "code",
   "execution_count": 218,
   "metadata": {
    "pycharm": {
     "name": "#%%\n"
    }
   },
   "outputs": [
    {
     "data": {
      "text/plain": "(1000, 14)"
     },
     "execution_count": 218,
     "metadata": {},
     "output_type": "execute_result"
    }
   ],
   "source": [
    "# show the data of how many rows and columns\n",
    "data.shape"
   ]
  },
  {
   "cell_type": "markdown",
   "metadata": {},
   "source": []
  },
  {
   "cell_type": "code",
   "execution_count": 219,
   "metadata": {
    "pycharm": {
     "name": "#%%\n"
    }
   },
   "outputs": [
    {
     "data": {
      "text/plain": "                ID     No_Pation          AGE         Urea           Cr  \\\ncount  1000.000000  1.000000e+03  1000.000000  1000.000000  1000.000000   \nmean    340.500000  2.705514e+05    53.528000     5.124743    68.943000   \nstd     240.397673  3.380758e+06     8.799241     2.935165    59.984747   \nmin       1.000000  1.230000e+02    20.000000     0.500000     6.000000   \n25%     125.750000  2.406375e+04    51.000000     3.700000    48.000000   \n50%     300.500000  3.439550e+04    55.000000     4.600000    60.000000   \n75%     550.250000  4.538425e+04    59.000000     5.700000    73.000000   \nmax     800.000000  7.543566e+07    79.000000    38.900000   800.000000   \n\n             HbA1c         Chol           TG          HDL          LDL  \\\ncount  1000.000000  1000.000000  1000.000000  1000.000000  1000.000000   \nmean      8.281160     4.862820     2.349610     1.204750     2.609790   \nstd       2.534003     1.301738     1.401176     0.660414     1.115102   \nmin       0.900000     0.000000     0.300000     0.200000     0.300000   \n25%       6.500000     4.000000     1.500000     0.900000     1.800000   \n50%       8.000000     4.800000     2.000000     1.100000     2.500000   \n75%      10.200000     5.600000     2.900000     1.300000     3.300000   \nmax      16.000000    10.300000    13.800000     9.900000     9.900000   \n\n              VLDL          BMI  \ncount  1000.000000  1000.000000  \nmean      1.854700    29.578020  \nstd       3.663599     4.962388  \nmin       0.100000    19.000000  \n25%       0.700000    26.000000  \n50%       0.900000    30.000000  \n75%       1.500000    33.000000  \nmax      35.000000    47.750000  ",
      "text/html": "<div>\n<style scoped>\n    .dataframe tbody tr th:only-of-type {\n        vertical-align: middle;\n    }\n\n    .dataframe tbody tr th {\n        vertical-align: top;\n    }\n\n    .dataframe thead th {\n        text-align: right;\n    }\n</style>\n<table border=\"1\" class=\"dataframe\">\n  <thead>\n    <tr style=\"text-align: right;\">\n      <th></th>\n      <th>ID</th>\n      <th>No_Pation</th>\n      <th>AGE</th>\n      <th>Urea</th>\n      <th>Cr</th>\n      <th>HbA1c</th>\n      <th>Chol</th>\n      <th>TG</th>\n      <th>HDL</th>\n      <th>LDL</th>\n      <th>VLDL</th>\n      <th>BMI</th>\n    </tr>\n  </thead>\n  <tbody>\n    <tr>\n      <th>count</th>\n      <td>1000.000000</td>\n      <td>1.000000e+03</td>\n      <td>1000.000000</td>\n      <td>1000.000000</td>\n      <td>1000.000000</td>\n      <td>1000.000000</td>\n      <td>1000.000000</td>\n      <td>1000.000000</td>\n      <td>1000.000000</td>\n      <td>1000.000000</td>\n      <td>1000.000000</td>\n      <td>1000.000000</td>\n    </tr>\n    <tr>\n      <th>mean</th>\n      <td>340.500000</td>\n      <td>2.705514e+05</td>\n      <td>53.528000</td>\n      <td>5.124743</td>\n      <td>68.943000</td>\n      <td>8.281160</td>\n      <td>4.862820</td>\n      <td>2.349610</td>\n      <td>1.204750</td>\n      <td>2.609790</td>\n      <td>1.854700</td>\n      <td>29.578020</td>\n    </tr>\n    <tr>\n      <th>std</th>\n      <td>240.397673</td>\n      <td>3.380758e+06</td>\n      <td>8.799241</td>\n      <td>2.935165</td>\n      <td>59.984747</td>\n      <td>2.534003</td>\n      <td>1.301738</td>\n      <td>1.401176</td>\n      <td>0.660414</td>\n      <td>1.115102</td>\n      <td>3.663599</td>\n      <td>4.962388</td>\n    </tr>\n    <tr>\n      <th>min</th>\n      <td>1.000000</td>\n      <td>1.230000e+02</td>\n      <td>20.000000</td>\n      <td>0.500000</td>\n      <td>6.000000</td>\n      <td>0.900000</td>\n      <td>0.000000</td>\n      <td>0.300000</td>\n      <td>0.200000</td>\n      <td>0.300000</td>\n      <td>0.100000</td>\n      <td>19.000000</td>\n    </tr>\n    <tr>\n      <th>25%</th>\n      <td>125.750000</td>\n      <td>2.406375e+04</td>\n      <td>51.000000</td>\n      <td>3.700000</td>\n      <td>48.000000</td>\n      <td>6.500000</td>\n      <td>4.000000</td>\n      <td>1.500000</td>\n      <td>0.900000</td>\n      <td>1.800000</td>\n      <td>0.700000</td>\n      <td>26.000000</td>\n    </tr>\n    <tr>\n      <th>50%</th>\n      <td>300.500000</td>\n      <td>3.439550e+04</td>\n      <td>55.000000</td>\n      <td>4.600000</td>\n      <td>60.000000</td>\n      <td>8.000000</td>\n      <td>4.800000</td>\n      <td>2.000000</td>\n      <td>1.100000</td>\n      <td>2.500000</td>\n      <td>0.900000</td>\n      <td>30.000000</td>\n    </tr>\n    <tr>\n      <th>75%</th>\n      <td>550.250000</td>\n      <td>4.538425e+04</td>\n      <td>59.000000</td>\n      <td>5.700000</td>\n      <td>73.000000</td>\n      <td>10.200000</td>\n      <td>5.600000</td>\n      <td>2.900000</td>\n      <td>1.300000</td>\n      <td>3.300000</td>\n      <td>1.500000</td>\n      <td>33.000000</td>\n    </tr>\n    <tr>\n      <th>max</th>\n      <td>800.000000</td>\n      <td>7.543566e+07</td>\n      <td>79.000000</td>\n      <td>38.900000</td>\n      <td>800.000000</td>\n      <td>16.000000</td>\n      <td>10.300000</td>\n      <td>13.800000</td>\n      <td>9.900000</td>\n      <td>9.900000</td>\n      <td>35.000000</td>\n      <td>47.750000</td>\n    </tr>\n  </tbody>\n</table>\n</div>"
     },
     "execution_count": 219,
     "metadata": {},
     "output_type": "execute_result"
    }
   ],
   "source": [
    "# discription of the current data set\n",
    "data.describe()"
   ]
  },
  {
   "cell_type": "code",
   "execution_count": 220,
   "metadata": {
    "pycharm": {
     "name": "#%%\n"
    }
   },
   "outputs": [
    {
     "data": {
      "text/plain": "      ID  No_Pation Gender  AGE  Urea  Cr  HbA1c  Chol   TG  HDL  LDL  VLDL  \\\n995  200     454317      M   71  11.0  97    7.0   7.5  1.7  1.2  1.8   0.6   \n996  671     876534      M   31   3.0  60   12.3   4.1  2.2  0.7  2.4  15.4   \n997  669      87654      M   30   7.1  81    6.7   4.1  1.1  1.2  2.4   8.1   \n998   99      24004      M   38   5.8  59    6.7   5.3  2.0  1.6  2.9  14.0   \n999  248      24054      M   54   5.0  67    6.9   3.8  1.7  1.1  3.0   0.7   \n\n      BMI CLASS  \n995  30.0     Y  \n996  37.2    Y   \n997  27.4    Y   \n998  40.5    Y   \n999  33.0    Y   ",
      "text/html": "<div>\n<style scoped>\n    .dataframe tbody tr th:only-of-type {\n        vertical-align: middle;\n    }\n\n    .dataframe tbody tr th {\n        vertical-align: top;\n    }\n\n    .dataframe thead th {\n        text-align: right;\n    }\n</style>\n<table border=\"1\" class=\"dataframe\">\n  <thead>\n    <tr style=\"text-align: right;\">\n      <th></th>\n      <th>ID</th>\n      <th>No_Pation</th>\n      <th>Gender</th>\n      <th>AGE</th>\n      <th>Urea</th>\n      <th>Cr</th>\n      <th>HbA1c</th>\n      <th>Chol</th>\n      <th>TG</th>\n      <th>HDL</th>\n      <th>LDL</th>\n      <th>VLDL</th>\n      <th>BMI</th>\n      <th>CLASS</th>\n    </tr>\n  </thead>\n  <tbody>\n    <tr>\n      <th>995</th>\n      <td>200</td>\n      <td>454317</td>\n      <td>M</td>\n      <td>71</td>\n      <td>11.0</td>\n      <td>97</td>\n      <td>7.0</td>\n      <td>7.5</td>\n      <td>1.7</td>\n      <td>1.2</td>\n      <td>1.8</td>\n      <td>0.6</td>\n      <td>30.0</td>\n      <td>Y</td>\n    </tr>\n    <tr>\n      <th>996</th>\n      <td>671</td>\n      <td>876534</td>\n      <td>M</td>\n      <td>31</td>\n      <td>3.0</td>\n      <td>60</td>\n      <td>12.3</td>\n      <td>4.1</td>\n      <td>2.2</td>\n      <td>0.7</td>\n      <td>2.4</td>\n      <td>15.4</td>\n      <td>37.2</td>\n      <td>Y</td>\n    </tr>\n    <tr>\n      <th>997</th>\n      <td>669</td>\n      <td>87654</td>\n      <td>M</td>\n      <td>30</td>\n      <td>7.1</td>\n      <td>81</td>\n      <td>6.7</td>\n      <td>4.1</td>\n      <td>1.1</td>\n      <td>1.2</td>\n      <td>2.4</td>\n      <td>8.1</td>\n      <td>27.4</td>\n      <td>Y</td>\n    </tr>\n    <tr>\n      <th>998</th>\n      <td>99</td>\n      <td>24004</td>\n      <td>M</td>\n      <td>38</td>\n      <td>5.8</td>\n      <td>59</td>\n      <td>6.7</td>\n      <td>5.3</td>\n      <td>2.0</td>\n      <td>1.6</td>\n      <td>2.9</td>\n      <td>14.0</td>\n      <td>40.5</td>\n      <td>Y</td>\n    </tr>\n    <tr>\n      <th>999</th>\n      <td>248</td>\n      <td>24054</td>\n      <td>M</td>\n      <td>54</td>\n      <td>5.0</td>\n      <td>67</td>\n      <td>6.9</td>\n      <td>3.8</td>\n      <td>1.7</td>\n      <td>1.1</td>\n      <td>3.0</td>\n      <td>0.7</td>\n      <td>33.0</td>\n      <td>Y</td>\n    </tr>\n  </tbody>\n</table>\n</div>"
     },
     "execution_count": 220,
     "metadata": {},
     "output_type": "execute_result"
    }
   ],
   "source": [
    "data.tail()"
   ]
  },
  {
   "cell_type": "code",
   "execution_count": 221,
   "metadata": {
    "pycharm": {
     "name": "#%%\n"
    }
   },
   "outputs": [
    {
     "data": {
      "text/plain": "False"
     },
     "execution_count": 221,
     "metadata": {},
     "output_type": "execute_result"
    }
   ],
   "source": [
    "# check out if the data has all the data\n",
    "data.isnull().values.any()\n"
   ]
  },
  {
   "cell_type": "code",
   "execution_count": 222,
   "metadata": {
    "pycharm": {
     "name": "#%%\n"
    }
   },
   "outputs": [
    {
     "name": "stdout",
     "output_type": "stream",
     "text": [
      "<class 'pandas.core.frame.DataFrame'>\n",
      "RangeIndex: 1000 entries, 0 to 999\n",
      "Data columns (total 14 columns):\n",
      " #   Column     Non-Null Count  Dtype  \n",
      "---  ------     --------------  -----  \n",
      " 0   ID         1000 non-null   int64  \n",
      " 1   No_Pation  1000 non-null   int64  \n",
      " 2   Gender     1000 non-null   object \n",
      " 3   AGE        1000 non-null   int64  \n",
      " 4   Urea       1000 non-null   float64\n",
      " 5   Cr         1000 non-null   int64  \n",
      " 6   HbA1c      1000 non-null   float64\n",
      " 7   Chol       1000 non-null   float64\n",
      " 8   TG         1000 non-null   float64\n",
      " 9   HDL        1000 non-null   float64\n",
      " 10  LDL        1000 non-null   float64\n",
      " 11  VLDL       1000 non-null   float64\n",
      " 12  BMI        1000 non-null   float64\n",
      " 13  CLASS      1000 non-null   object \n",
      "dtypes: float64(8), int64(4), object(2)\n",
      "memory usage: 109.5+ KB\n"
     ]
    }
   ],
   "source": [
    "# to know the Dtype of the features\n",
    "data.info()"
   ]
  },
  {
   "cell_type": "code",
   "execution_count": 223,
   "metadata": {
    "pycharm": {
     "name": "#%%\n"
    }
   },
   "outputs": [
    {
     "data": {
      "text/plain": "Y     0.840\nN     0.102\nP     0.053\nY     0.004\nN     0.001\nName: CLASS, dtype: float64"
     },
     "execution_count": 223,
     "metadata": {},
     "output_type": "execute_result"
    }
   ],
   "source": [
    "data['CLASS'].value_counts(normalize=True)"
   ]
  },
  {
   "cell_type": "code",
   "execution_count": 224,
   "metadata": {
    "pycharm": {
     "name": "#%%\n"
    }
   },
   "outputs": [],
   "source": [
    "data['Gender'] = data.apply(lambda row: 0 if row['Gender'] == 'F' else 1, axis=1)"
   ]
  },
  {
   "cell_type": "code",
   "execution_count": 225,
   "metadata": {
    "pycharm": {
     "name": "#%%\n"
    }
   },
   "outputs": [
    {
     "data": {
      "text/plain": "1    0.566\n0    0.434\nName: Gender, dtype: float64"
     },
     "execution_count": 225,
     "metadata": {},
     "output_type": "execute_result"
    }
   ],
   "source": [
    "data['Gender'].value_counts(normalize=True)\n"
   ]
  },
  {
   "cell_type": "code",
   "execution_count": 226,
   "metadata": {},
   "outputs": [
    {
     "data": {
      "text/plain": "array(['N', 'N ', 'P', 'Y', 'Y '], dtype=object)"
     },
     "execution_count": 226,
     "metadata": {},
     "output_type": "execute_result"
    }
   ],
   "source": [
    "data.CLASS.unique()"
   ]
  },
  {
   "cell_type": "code",
   "execution_count": 227,
   "metadata": {},
   "outputs": [],
   "source": [
    "def fix_class(row):\n",
    "    if row['CLASS'] == 'N':\n",
    "        return 0\n",
    "    elif row['CLASS'] == 'P':\n",
    "        return 1\n",
    "    elif row['CLASS'] == 'Y':\n",
    "        return 2\n",
    "    elif row['CLASS'] == 'N ':\n",
    "        return 0\n",
    "    elif row['CLASS'] == 'Y ':\n",
    "        return 2"
   ]
  },
  {
   "cell_type": "code",
   "execution_count": 228,
   "metadata": {},
   "outputs": [
    {
     "data": {
      "text/plain": "array([0, 1, 2], dtype=int64)"
     },
     "execution_count": 228,
     "metadata": {},
     "output_type": "execute_result"
    }
   ],
   "source": [
    "data['CLASS'] = data.apply(lambda row: fix_class(row), axis=1)\n",
    "data.CLASS.unique()"
   ]
  },
  {
   "cell_type": "code",
   "execution_count": 229,
   "metadata": {},
   "outputs": [
    {
     "data": {
      "text/plain": "    ID  No_Pation  Gender  AGE  Urea  Cr  HbA1c  Chol   TG  HDL  LDL  VLDL  \\\n0  502      17975       0   50   4.7  46    4.9   4.2  0.9  2.4  1.4   0.5   \n1  735      34221       1   26   4.5  62    4.9   3.7  1.4  1.1  2.1   0.6   \n2  420      47975       0   50   4.7  46    4.9   4.2  0.9  2.4  1.4   0.5   \n3  680      87656       0   50   4.7  46    4.9   4.2  0.9  2.4  1.4   0.5   \n4  504      34223       1   33   7.1  46    4.9   4.9  1.0  0.8  2.0   0.4   \n\n    BMI  CLASS  \n0  24.0      0  \n1  23.0      0  \n2  24.0      0  \n3  24.0      0  \n4  21.0      0  ",
      "text/html": "<div>\n<style scoped>\n    .dataframe tbody tr th:only-of-type {\n        vertical-align: middle;\n    }\n\n    .dataframe tbody tr th {\n        vertical-align: top;\n    }\n\n    .dataframe thead th {\n        text-align: right;\n    }\n</style>\n<table border=\"1\" class=\"dataframe\">\n  <thead>\n    <tr style=\"text-align: right;\">\n      <th></th>\n      <th>ID</th>\n      <th>No_Pation</th>\n      <th>Gender</th>\n      <th>AGE</th>\n      <th>Urea</th>\n      <th>Cr</th>\n      <th>HbA1c</th>\n      <th>Chol</th>\n      <th>TG</th>\n      <th>HDL</th>\n      <th>LDL</th>\n      <th>VLDL</th>\n      <th>BMI</th>\n      <th>CLASS</th>\n    </tr>\n  </thead>\n  <tbody>\n    <tr>\n      <th>0</th>\n      <td>502</td>\n      <td>17975</td>\n      <td>0</td>\n      <td>50</td>\n      <td>4.7</td>\n      <td>46</td>\n      <td>4.9</td>\n      <td>4.2</td>\n      <td>0.9</td>\n      <td>2.4</td>\n      <td>1.4</td>\n      <td>0.5</td>\n      <td>24.0</td>\n      <td>0</td>\n    </tr>\n    <tr>\n      <th>1</th>\n      <td>735</td>\n      <td>34221</td>\n      <td>1</td>\n      <td>26</td>\n      <td>4.5</td>\n      <td>62</td>\n      <td>4.9</td>\n      <td>3.7</td>\n      <td>1.4</td>\n      <td>1.1</td>\n      <td>2.1</td>\n      <td>0.6</td>\n      <td>23.0</td>\n      <td>0</td>\n    </tr>\n    <tr>\n      <th>2</th>\n      <td>420</td>\n      <td>47975</td>\n      <td>0</td>\n      <td>50</td>\n      <td>4.7</td>\n      <td>46</td>\n      <td>4.9</td>\n      <td>4.2</td>\n      <td>0.9</td>\n      <td>2.4</td>\n      <td>1.4</td>\n      <td>0.5</td>\n      <td>24.0</td>\n      <td>0</td>\n    </tr>\n    <tr>\n      <th>3</th>\n      <td>680</td>\n      <td>87656</td>\n      <td>0</td>\n      <td>50</td>\n      <td>4.7</td>\n      <td>46</td>\n      <td>4.9</td>\n      <td>4.2</td>\n      <td>0.9</td>\n      <td>2.4</td>\n      <td>1.4</td>\n      <td>0.5</td>\n      <td>24.0</td>\n      <td>0</td>\n    </tr>\n    <tr>\n      <th>4</th>\n      <td>504</td>\n      <td>34223</td>\n      <td>1</td>\n      <td>33</td>\n      <td>7.1</td>\n      <td>46</td>\n      <td>4.9</td>\n      <td>4.9</td>\n      <td>1.0</td>\n      <td>0.8</td>\n      <td>2.0</td>\n      <td>0.4</td>\n      <td>21.0</td>\n      <td>0</td>\n    </tr>\n  </tbody>\n</table>\n</div>"
     },
     "execution_count": 229,
     "metadata": {},
     "output_type": "execute_result"
    }
   ],
   "source": [
    "data.head()"
   ]
  },
  {
   "cell_type": "code",
   "execution_count": 230,
   "metadata": {},
   "outputs": [
    {
     "data": {
      "text/plain": "      ID  No_Pation  Gender  AGE  Urea  Cr  HbA1c  Chol   TG  HDL  LDL  VLDL  \\\n995  200     454317       1   71  11.0  97    7.0   7.5  1.7  1.2  1.8   0.6   \n996  671     876534       1   31   3.0  60   12.3   4.1  2.2  0.7  2.4  15.4   \n997  669      87654       1   30   7.1  81    6.7   4.1  1.1  1.2  2.4   8.1   \n998   99      24004       1   38   5.8  59    6.7   5.3  2.0  1.6  2.9  14.0   \n999  248      24054       1   54   5.0  67    6.9   3.8  1.7  1.1  3.0   0.7   \n\n      BMI  CLASS  \n995  30.0      2  \n996  37.2      2  \n997  27.4      2  \n998  40.5      2  \n999  33.0      2  ",
      "text/html": "<div>\n<style scoped>\n    .dataframe tbody tr th:only-of-type {\n        vertical-align: middle;\n    }\n\n    .dataframe tbody tr th {\n        vertical-align: top;\n    }\n\n    .dataframe thead th {\n        text-align: right;\n    }\n</style>\n<table border=\"1\" class=\"dataframe\">\n  <thead>\n    <tr style=\"text-align: right;\">\n      <th></th>\n      <th>ID</th>\n      <th>No_Pation</th>\n      <th>Gender</th>\n      <th>AGE</th>\n      <th>Urea</th>\n      <th>Cr</th>\n      <th>HbA1c</th>\n      <th>Chol</th>\n      <th>TG</th>\n      <th>HDL</th>\n      <th>LDL</th>\n      <th>VLDL</th>\n      <th>BMI</th>\n      <th>CLASS</th>\n    </tr>\n  </thead>\n  <tbody>\n    <tr>\n      <th>995</th>\n      <td>200</td>\n      <td>454317</td>\n      <td>1</td>\n      <td>71</td>\n      <td>11.0</td>\n      <td>97</td>\n      <td>7.0</td>\n      <td>7.5</td>\n      <td>1.7</td>\n      <td>1.2</td>\n      <td>1.8</td>\n      <td>0.6</td>\n      <td>30.0</td>\n      <td>2</td>\n    </tr>\n    <tr>\n      <th>996</th>\n      <td>671</td>\n      <td>876534</td>\n      <td>1</td>\n      <td>31</td>\n      <td>3.0</td>\n      <td>60</td>\n      <td>12.3</td>\n      <td>4.1</td>\n      <td>2.2</td>\n      <td>0.7</td>\n      <td>2.4</td>\n      <td>15.4</td>\n      <td>37.2</td>\n      <td>2</td>\n    </tr>\n    <tr>\n      <th>997</th>\n      <td>669</td>\n      <td>87654</td>\n      <td>1</td>\n      <td>30</td>\n      <td>7.1</td>\n      <td>81</td>\n      <td>6.7</td>\n      <td>4.1</td>\n      <td>1.1</td>\n      <td>1.2</td>\n      <td>2.4</td>\n      <td>8.1</td>\n      <td>27.4</td>\n      <td>2</td>\n    </tr>\n    <tr>\n      <th>998</th>\n      <td>99</td>\n      <td>24004</td>\n      <td>1</td>\n      <td>38</td>\n      <td>5.8</td>\n      <td>59</td>\n      <td>6.7</td>\n      <td>5.3</td>\n      <td>2.0</td>\n      <td>1.6</td>\n      <td>2.9</td>\n      <td>14.0</td>\n      <td>40.5</td>\n      <td>2</td>\n    </tr>\n    <tr>\n      <th>999</th>\n      <td>248</td>\n      <td>24054</td>\n      <td>1</td>\n      <td>54</td>\n      <td>5.0</td>\n      <td>67</td>\n      <td>6.9</td>\n      <td>3.8</td>\n      <td>1.7</td>\n      <td>1.1</td>\n      <td>3.0</td>\n      <td>0.7</td>\n      <td>33.0</td>\n      <td>2</td>\n    </tr>\n  </tbody>\n</table>\n</div>"
     },
     "execution_count": 230,
     "metadata": {},
     "output_type": "execute_result"
    }
   ],
   "source": [
    "data.tail()"
   ]
  },
  {
   "cell_type": "markdown",
   "metadata": {},
   "source": [
    "#Format independent variables with one-hot encoding"
   ]
  },
  {
   "cell_type": "code",
   "execution_count": 231,
   "metadata": {},
   "outputs": [
    {
     "data": {
      "text/plain": "    ID  No_Pation  Gender  AGE  Urea  Cr  HbA1c  Chol   TG  HDL  LDL  VLDL  \\\n0  502      17975       0   50   4.7  46    4.9   4.2  0.9  2.4  1.4   0.5   \n1  735      34221       1   26   4.5  62    4.9   3.7  1.4  1.1  2.1   0.6   \n2  420      47975       0   50   4.7  46    4.9   4.2  0.9  2.4  1.4   0.5   \n3  680      87656       0   50   4.7  46    4.9   4.2  0.9  2.4  1.4   0.5   \n4  504      34223       1   33   7.1  46    4.9   4.9  1.0  0.8  2.0   0.4   \n\n    BMI  CLASS_0  CLASS_1  CLASS_2  \n0  24.0        1        0        0  \n1  23.0        1        0        0  \n2  24.0        1        0        0  \n3  24.0        1        0        0  \n4  21.0        1        0        0  ",
      "text/html": "<div>\n<style scoped>\n    .dataframe tbody tr th:only-of-type {\n        vertical-align: middle;\n    }\n\n    .dataframe tbody tr th {\n        vertical-align: top;\n    }\n\n    .dataframe thead th {\n        text-align: right;\n    }\n</style>\n<table border=\"1\" class=\"dataframe\">\n  <thead>\n    <tr style=\"text-align: right;\">\n      <th></th>\n      <th>ID</th>\n      <th>No_Pation</th>\n      <th>Gender</th>\n      <th>AGE</th>\n      <th>Urea</th>\n      <th>Cr</th>\n      <th>HbA1c</th>\n      <th>Chol</th>\n      <th>TG</th>\n      <th>HDL</th>\n      <th>LDL</th>\n      <th>VLDL</th>\n      <th>BMI</th>\n      <th>CLASS_0</th>\n      <th>CLASS_1</th>\n      <th>CLASS_2</th>\n    </tr>\n  </thead>\n  <tbody>\n    <tr>\n      <th>0</th>\n      <td>502</td>\n      <td>17975</td>\n      <td>0</td>\n      <td>50</td>\n      <td>4.7</td>\n      <td>46</td>\n      <td>4.9</td>\n      <td>4.2</td>\n      <td>0.9</td>\n      <td>2.4</td>\n      <td>1.4</td>\n      <td>0.5</td>\n      <td>24.0</td>\n      <td>1</td>\n      <td>0</td>\n      <td>0</td>\n    </tr>\n    <tr>\n      <th>1</th>\n      <td>735</td>\n      <td>34221</td>\n      <td>1</td>\n      <td>26</td>\n      <td>4.5</td>\n      <td>62</td>\n      <td>4.9</td>\n      <td>3.7</td>\n      <td>1.4</td>\n      <td>1.1</td>\n      <td>2.1</td>\n      <td>0.6</td>\n      <td>23.0</td>\n      <td>1</td>\n      <td>0</td>\n      <td>0</td>\n    </tr>\n    <tr>\n      <th>2</th>\n      <td>420</td>\n      <td>47975</td>\n      <td>0</td>\n      <td>50</td>\n      <td>4.7</td>\n      <td>46</td>\n      <td>4.9</td>\n      <td>4.2</td>\n      <td>0.9</td>\n      <td>2.4</td>\n      <td>1.4</td>\n      <td>0.5</td>\n      <td>24.0</td>\n      <td>1</td>\n      <td>0</td>\n      <td>0</td>\n    </tr>\n    <tr>\n      <th>3</th>\n      <td>680</td>\n      <td>87656</td>\n      <td>0</td>\n      <td>50</td>\n      <td>4.7</td>\n      <td>46</td>\n      <td>4.9</td>\n      <td>4.2</td>\n      <td>0.9</td>\n      <td>2.4</td>\n      <td>1.4</td>\n      <td>0.5</td>\n      <td>24.0</td>\n      <td>1</td>\n      <td>0</td>\n      <td>0</td>\n    </tr>\n    <tr>\n      <th>4</th>\n      <td>504</td>\n      <td>34223</td>\n      <td>1</td>\n      <td>33</td>\n      <td>7.1</td>\n      <td>46</td>\n      <td>4.9</td>\n      <td>4.9</td>\n      <td>1.0</td>\n      <td>0.8</td>\n      <td>2.0</td>\n      <td>0.4</td>\n      <td>21.0</td>\n      <td>1</td>\n      <td>0</td>\n      <td>0</td>\n    </tr>\n  </tbody>\n</table>\n</div>"
     },
     "execution_count": 231,
     "metadata": {},
     "output_type": "execute_result"
    }
   ],
   "source": [
    "data_new = pd.get_dummies(data, columns=['CLASS'])\n",
    "data_new.head()"
   ]
  },
  {
   "cell_type": "code",
   "execution_count": 232,
   "metadata": {},
   "outputs": [
    {
     "data": {
      "text/plain": "     Gender  AGE  Urea  Cr  HbA1c  Chol   TG  HDL  LDL  VLDL   BMI  CLASS_0  \\\n0         0   50   4.7  46    4.9   4.2  0.9  2.4  1.4   0.5  24.0        1   \n1         1   26   4.5  62    4.9   3.7  1.4  1.1  2.1   0.6  23.0        1   \n2         0   50   4.7  46    4.9   4.2  0.9  2.4  1.4   0.5  24.0        1   \n3         0   50   4.7  46    4.9   4.2  0.9  2.4  1.4   0.5  24.0        1   \n4         1   33   7.1  46    4.9   4.9  1.0  0.8  2.0   0.4  21.0        1   \n..      ...  ...   ...  ..    ...   ...  ...  ...  ...   ...   ...      ...   \n995       1   71  11.0  97    7.0   7.5  1.7  1.2  1.8   0.6  30.0        0   \n996       1   31   3.0  60   12.3   4.1  2.2  0.7  2.4  15.4  37.2        0   \n997       1   30   7.1  81    6.7   4.1  1.1  1.2  2.4   8.1  27.4        0   \n998       1   38   5.8  59    6.7   5.3  2.0  1.6  2.9  14.0  40.5        0   \n999       1   54   5.0  67    6.9   3.8  1.7  1.1  3.0   0.7  33.0        0   \n\n     CLASS_1  CLASS_2  \n0          0        0  \n1          0        0  \n2          0        0  \n3          0        0  \n4          0        0  \n..       ...      ...  \n995        0        1  \n996        0        1  \n997        0        1  \n998        0        1  \n999        0        1  \n\n[1000 rows x 14 columns]",
      "text/html": "<div>\n<style scoped>\n    .dataframe tbody tr th:only-of-type {\n        vertical-align: middle;\n    }\n\n    .dataframe tbody tr th {\n        vertical-align: top;\n    }\n\n    .dataframe thead th {\n        text-align: right;\n    }\n</style>\n<table border=\"1\" class=\"dataframe\">\n  <thead>\n    <tr style=\"text-align: right;\">\n      <th></th>\n      <th>Gender</th>\n      <th>AGE</th>\n      <th>Urea</th>\n      <th>Cr</th>\n      <th>HbA1c</th>\n      <th>Chol</th>\n      <th>TG</th>\n      <th>HDL</th>\n      <th>LDL</th>\n      <th>VLDL</th>\n      <th>BMI</th>\n      <th>CLASS_0</th>\n      <th>CLASS_1</th>\n      <th>CLASS_2</th>\n    </tr>\n  </thead>\n  <tbody>\n    <tr>\n      <th>0</th>\n      <td>0</td>\n      <td>50</td>\n      <td>4.7</td>\n      <td>46</td>\n      <td>4.9</td>\n      <td>4.2</td>\n      <td>0.9</td>\n      <td>2.4</td>\n      <td>1.4</td>\n      <td>0.5</td>\n      <td>24.0</td>\n      <td>1</td>\n      <td>0</td>\n      <td>0</td>\n    </tr>\n    <tr>\n      <th>1</th>\n      <td>1</td>\n      <td>26</td>\n      <td>4.5</td>\n      <td>62</td>\n      <td>4.9</td>\n      <td>3.7</td>\n      <td>1.4</td>\n      <td>1.1</td>\n      <td>2.1</td>\n      <td>0.6</td>\n      <td>23.0</td>\n      <td>1</td>\n      <td>0</td>\n      <td>0</td>\n    </tr>\n    <tr>\n      <th>2</th>\n      <td>0</td>\n      <td>50</td>\n      <td>4.7</td>\n      <td>46</td>\n      <td>4.9</td>\n      <td>4.2</td>\n      <td>0.9</td>\n      <td>2.4</td>\n      <td>1.4</td>\n      <td>0.5</td>\n      <td>24.0</td>\n      <td>1</td>\n      <td>0</td>\n      <td>0</td>\n    </tr>\n    <tr>\n      <th>3</th>\n      <td>0</td>\n      <td>50</td>\n      <td>4.7</td>\n      <td>46</td>\n      <td>4.9</td>\n      <td>4.2</td>\n      <td>0.9</td>\n      <td>2.4</td>\n      <td>1.4</td>\n      <td>0.5</td>\n      <td>24.0</td>\n      <td>1</td>\n      <td>0</td>\n      <td>0</td>\n    </tr>\n    <tr>\n      <th>4</th>\n      <td>1</td>\n      <td>33</td>\n      <td>7.1</td>\n      <td>46</td>\n      <td>4.9</td>\n      <td>4.9</td>\n      <td>1.0</td>\n      <td>0.8</td>\n      <td>2.0</td>\n      <td>0.4</td>\n      <td>21.0</td>\n      <td>1</td>\n      <td>0</td>\n      <td>0</td>\n    </tr>\n    <tr>\n      <th>...</th>\n      <td>...</td>\n      <td>...</td>\n      <td>...</td>\n      <td>...</td>\n      <td>...</td>\n      <td>...</td>\n      <td>...</td>\n      <td>...</td>\n      <td>...</td>\n      <td>...</td>\n      <td>...</td>\n      <td>...</td>\n      <td>...</td>\n      <td>...</td>\n    </tr>\n    <tr>\n      <th>995</th>\n      <td>1</td>\n      <td>71</td>\n      <td>11.0</td>\n      <td>97</td>\n      <td>7.0</td>\n      <td>7.5</td>\n      <td>1.7</td>\n      <td>1.2</td>\n      <td>1.8</td>\n      <td>0.6</td>\n      <td>30.0</td>\n      <td>0</td>\n      <td>0</td>\n      <td>1</td>\n    </tr>\n    <tr>\n      <th>996</th>\n      <td>1</td>\n      <td>31</td>\n      <td>3.0</td>\n      <td>60</td>\n      <td>12.3</td>\n      <td>4.1</td>\n      <td>2.2</td>\n      <td>0.7</td>\n      <td>2.4</td>\n      <td>15.4</td>\n      <td>37.2</td>\n      <td>0</td>\n      <td>0</td>\n      <td>1</td>\n    </tr>\n    <tr>\n      <th>997</th>\n      <td>1</td>\n      <td>30</td>\n      <td>7.1</td>\n      <td>81</td>\n      <td>6.7</td>\n      <td>4.1</td>\n      <td>1.1</td>\n      <td>1.2</td>\n      <td>2.4</td>\n      <td>8.1</td>\n      <td>27.4</td>\n      <td>0</td>\n      <td>0</td>\n      <td>1</td>\n    </tr>\n    <tr>\n      <th>998</th>\n      <td>1</td>\n      <td>38</td>\n      <td>5.8</td>\n      <td>59</td>\n      <td>6.7</td>\n      <td>5.3</td>\n      <td>2.0</td>\n      <td>1.6</td>\n      <td>2.9</td>\n      <td>14.0</td>\n      <td>40.5</td>\n      <td>0</td>\n      <td>0</td>\n      <td>1</td>\n    </tr>\n    <tr>\n      <th>999</th>\n      <td>1</td>\n      <td>54</td>\n      <td>5.0</td>\n      <td>67</td>\n      <td>6.9</td>\n      <td>3.8</td>\n      <td>1.7</td>\n      <td>1.1</td>\n      <td>3.0</td>\n      <td>0.7</td>\n      <td>33.0</td>\n      <td>0</td>\n      <td>0</td>\n      <td>1</td>\n    </tr>\n  </tbody>\n</table>\n<p>1000 rows × 14 columns</p>\n</div>"
     },
     "execution_count": 232,
     "metadata": {},
     "output_type": "execute_result"
    }
   ],
   "source": [
    "data_new.drop(['ID', 'No_Pation'], axis=1)"
   ]
  },
  {
   "cell_type": "code",
   "execution_count": 233,
   "metadata": {},
   "outputs": [],
   "source": [
    "#Data Profiling Report\n",
    "# pp.ProfileReport(data_new)"
   ]
  },
  {
   "cell_type": "code",
   "execution_count": 247,
   "outputs": [],
   "source": [
    "# data_new.nsmallest(10, ['BMI'])\n",
    "# data_new.nsmallest(10, ['Urea']) # low on urea seems to indicate diabetes\n",
    "# data_new.nsmallest(10, ['Cr']) # not really much difference between classes\n",
    "# data_new.nsmallest(10, ['HbA1c']) # more difference but doesn't seem to stand on it's own\n",
    "# data_new.nsmallest(10, ['Chol']) # not significant difference between classes\n",
    "# data_new.nsmallest(10, ['TG']) # not significant difference between classes\n",
    "# data_new.nsmallest(10, ['HDL']) # low HDL seem to be indicator of diabetes\n",
    "# data_new.nsmallest(10, ['LDL']) # low LDL seem to be quite a good indicator as well\n",
    "# data_new.nsmallest(10, ['VLDL']) # gave mixed results on lower values\n",
    "\n",
    "# data_new.nlargest(10, ['BMI']) # high values = diabetes\n",
    "# data_new.nlargest(10, ['Urea']) # high values indicate diabetes\n",
    "# data_new.nlargest(10, ['Cr']) # high values indicate diabetes\n",
    "# data_new.nlargest(10, ['HbA1c']) #high values indicate diabetes\n",
    "# data_new.nlargest(10, ['Chol']) # mixed results\n",
    "# data_new.nlargest(10, ['TG']) # high TG indicate diabetes\n",
    "# data_new.nlargest(10, ['HDL']) #High HDL is an indicator of diabetes\n",
    "# data_new.nlargest(10, ['LDL']) #high LDL is a strong indicator as well\n",
    "# data_new.nlargest(10, ['VLDL']) #high VLDL is a strong indicator as well"
   ],
   "metadata": {
    "collapsed": false,
    "pycharm": {
     "name": "#%%\n"
    }
   }
  }
 ],
 "metadata": {
  "kernelspec": {
   "display_name": "Python 3",
   "language": "python",
   "name": "python3"
  },
  "language_info": {
   "codemirror_mode": {
    "name": "ipython",
    "version": 3
   },
   "file_extension": ".py",
   "mimetype": "text/x-python",
   "name": "python",
   "nbconvert_exporter": "python",
   "pygments_lexer": "ipython3",
   "version": "3.8.3"
  }
 },
 "nbformat": 4,
 "nbformat_minor": 1
}
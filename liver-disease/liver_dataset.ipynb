{
 "cells": [
  {
   "cell_type": "code",
   "execution_count": 2,
   "outputs": [],
   "source": [
    "from sklearn.preprocessing import LabelEncoder\n",
    "from sklearn.metrics import accuracy_score\n",
    "from sklearn.model_selection import train_test_split\n",
    "from sklearn.metrics import classification_report, confusion_matrix\n",
    "from sklearn import linear_model\n",
    "from sklearn.linear_model import LogisticRegression\n",
    "from sklearn.svm import SVC, LinearSVC\n",
    "from sklearn.ensemble import RandomForestClassifier\n",
    "from sklearn.naive_bayes import GaussianNB\n",
    "import pandas as pd\n",
    "import numpy as np\n",
    "import matplotlib.pyplot as plt\n",
    "import seaborn as sns\n",
    "import warnings\n",
    "warnings.filterwarnings('ignore')"
   ],
   "metadata": {
    "collapsed": false,
    "pycharm": {
     "name": "#%%\n"
    }
   }
  },
  {
   "cell_type": "code",
   "execution_count": 6,
   "outputs": [],
   "source": [
    "liver_df = pd.read_csv('liver-dataset.csv', encoding= 'unicode_escape')"
   ],
   "metadata": {
    "collapsed": false,
    "pycharm": {
     "name": "#%%\n"
    }
   }
  },
  {
   "cell_type": "code",
   "execution_count": 7,
   "outputs": [
    {
     "data": {
      "text/plain": "   Age of the patient Gender of the patient  Total Bilirubin  \\\n0                65.0                Female              0.7   \n1                62.0                  Male             10.9   \n2                62.0                  Male              7.3   \n3                58.0                  Male              1.0   \n4                72.0                  Male              3.9   \n\n   Direct Bilirubin   Alkphos Alkaline Phosphotase  \\\n0               0.1                          187.0   \n1               5.5                          699.0   \n2               4.1                          490.0   \n3               0.4                          182.0   \n4               2.0                          195.0   \n\n    Sgpt Alamine Aminotransferase  Sgot Aspartate Aminotransferase  \\\n0                            16.0                             18.0   \n1                            64.0                            100.0   \n2                            60.0                             68.0   \n3                            14.0                             20.0   \n4                            27.0                             59.0   \n\n   Total Proteins   ALB Albumin  A/G Ratio Albumin and Globulin Ratio  Result  \n0             6.8           3.3                                  0.90       1  \n1             7.5           3.2                                  0.74       1  \n2             7.0           3.3                                  0.89       1  \n3             6.8           3.4                                  1.00       1  \n4             7.3           2.4                                  0.40       1  ",
      "text/html": "<div>\n<style scoped>\n    .dataframe tbody tr th:only-of-type {\n        vertical-align: middle;\n    }\n\n    .dataframe tbody tr th {\n        vertical-align: top;\n    }\n\n    .dataframe thead th {\n        text-align: right;\n    }\n</style>\n<table border=\"1\" class=\"dataframe\">\n  <thead>\n    <tr style=\"text-align: right;\">\n      <th></th>\n      <th>Age of the patient</th>\n      <th>Gender of the patient</th>\n      <th>Total Bilirubin</th>\n      <th>Direct Bilirubin</th>\n      <th>Alkphos Alkaline Phosphotase</th>\n      <th>Sgpt Alamine Aminotransferase</th>\n      <th>Sgot Aspartate Aminotransferase</th>\n      <th>Total Proteins</th>\n      <th>ALB Albumin</th>\n      <th>A/G Ratio Albumin and Globulin Ratio</th>\n      <th>Result</th>\n    </tr>\n  </thead>\n  <tbody>\n    <tr>\n      <th>0</th>\n      <td>65.0</td>\n      <td>Female</td>\n      <td>0.7</td>\n      <td>0.1</td>\n      <td>187.0</td>\n      <td>16.0</td>\n      <td>18.0</td>\n      <td>6.8</td>\n      <td>3.3</td>\n      <td>0.90</td>\n      <td>1</td>\n    </tr>\n    <tr>\n      <th>1</th>\n      <td>62.0</td>\n      <td>Male</td>\n      <td>10.9</td>\n      <td>5.5</td>\n      <td>699.0</td>\n      <td>64.0</td>\n      <td>100.0</td>\n      <td>7.5</td>\n      <td>3.2</td>\n      <td>0.74</td>\n      <td>1</td>\n    </tr>\n    <tr>\n      <th>2</th>\n      <td>62.0</td>\n      <td>Male</td>\n      <td>7.3</td>\n      <td>4.1</td>\n      <td>490.0</td>\n      <td>60.0</td>\n      <td>68.0</td>\n      <td>7.0</td>\n      <td>3.3</td>\n      <td>0.89</td>\n      <td>1</td>\n    </tr>\n    <tr>\n      <th>3</th>\n      <td>58.0</td>\n      <td>Male</td>\n      <td>1.0</td>\n      <td>0.4</td>\n      <td>182.0</td>\n      <td>14.0</td>\n      <td>20.0</td>\n      <td>6.8</td>\n      <td>3.4</td>\n      <td>1.00</td>\n      <td>1</td>\n    </tr>\n    <tr>\n      <th>4</th>\n      <td>72.0</td>\n      <td>Male</td>\n      <td>3.9</td>\n      <td>2.0</td>\n      <td>195.0</td>\n      <td>27.0</td>\n      <td>59.0</td>\n      <td>7.3</td>\n      <td>2.4</td>\n      <td>0.40</td>\n      <td>1</td>\n    </tr>\n  </tbody>\n</table>\n</div>"
     },
     "execution_count": 7,
     "metadata": {},
     "output_type": "execute_result"
    }
   ],
   "source": [
    "liver_df.head()"
   ],
   "metadata": {
    "collapsed": false,
    "pycharm": {
     "name": "#%%\n"
    }
   }
  },
  {
   "cell_type": "code",
   "execution_count": null,
   "outputs": [],
   "source": [],
   "metadata": {
    "collapsed": false,
    "pycharm": {
     "name": "#%%\n"
    }
   }
  }
 ],
 "metadata": {
  "kernelspec": {
   "display_name": "Python 3",
   "language": "python",
   "name": "python3"
  },
  "language_info": {
   "codemirror_mode": {
    "name": "ipython",
    "version": 2
   },
   "file_extension": ".py",
   "mimetype": "text/x-python",
   "name": "python",
   "nbconvert_exporter": "python",
   "pygments_lexer": "ipython2",
   "version": "2.7.6"
  }
 },
 "nbformat": 4,
 "nbformat_minor": 0
}